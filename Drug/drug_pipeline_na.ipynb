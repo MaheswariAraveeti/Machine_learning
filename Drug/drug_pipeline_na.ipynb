{
 "cells": [
  {
   "cell_type": "markdown",
   "id": "c0f43d25",
   "metadata": {},
   "source": [
    "### 1.Problem Statement"
   ]
  },
  {
   "cell_type": "markdown",
   "id": "f81aa74b",
   "metadata": {},
   "source": [
    "##### Classify The Drug Based On their Features"
   ]
  },
  {
   "cell_type": "code",
   "execution_count": 39,
   "id": "e6302eb2",
   "metadata": {},
   "outputs": [],
   "source": [
    "import pandas as pd\n",
    "import numpy as np\n",
    "import matplotlib.pyplot as plt\n",
    "import seaborn as sns\n",
    "import re\n",
    "from sklearn.feature_extraction.text import CountVectorizer,TfidfVectorizer\n",
    "from sklearn.preprocessing import PowerTransformer,FunctionTransformer"
   ]
  },
  {
   "cell_type": "markdown",
   "id": "abf94cfe",
   "metadata": {},
   "source": [
    "### 2. Collect The Data Based On Problem Statement"
   ]
  },
  {
   "cell_type": "code",
   "execution_count": 40,
   "id": "51808796",
   "metadata": {},
   "outputs": [],
   "source": [
    "data = pd.read_csv(\"drug200.csv\")"
   ]
  },
  {
   "cell_type": "code",
   "execution_count": 41,
   "id": "00550acc",
   "metadata": {},
   "outputs": [],
   "source": [
    "df = data.copy()"
   ]
  },
  {
   "cell_type": "code",
   "execution_count": 42,
   "id": "0f6e1308",
   "metadata": {},
   "outputs": [
    {
     "name": "stdout",
     "output_type": "stream",
     "text": [
      "<class 'pandas.core.frame.DataFrame'>\n",
      "RangeIndex: 200 entries, 0 to 199\n",
      "Data columns (total 6 columns):\n",
      " #   Column       Non-Null Count  Dtype  \n",
      "---  ------       --------------  -----  \n",
      " 0   Age          200 non-null    int64  \n",
      " 1   Sex          200 non-null    object \n",
      " 2   BP           200 non-null    object \n",
      " 3   Cholesterol  200 non-null    object \n",
      " 4   Na_to_K      200 non-null    float64\n",
      " 5   Drug         200 non-null    object \n",
      "dtypes: float64(1), int64(1), object(4)\n",
      "memory usage: 9.5+ KB\n"
     ]
    }
   ],
   "source": [
    "df.info() # it shows the information of data"
   ]
  },
  {
   "cell_type": "code",
   "execution_count": 43,
   "id": "288c93a5",
   "metadata": {},
   "outputs": [],
   "source": [
    "df[\"BP\"] = data[\"BP\"].astype(\"category\") # convert the data types object to category\n",
    "df[\"Cholesterol\"] = data[\"Cholesterol\"].astype(\"category\")"
   ]
  },
  {
   "cell_type": "markdown",
   "id": "1d25b010",
   "metadata": {},
   "source": [
    "### 3.EDA(Exploratoty Data Analysis)"
   ]
  },
  {
   "cell_type": "code",
   "execution_count": 44,
   "id": "df9ef8a9",
   "metadata": {
    "scrolled": true
   },
   "outputs": [
    {
     "data": {
      "text/plain": [
       "0"
      ]
     },
     "execution_count": 44,
     "metadata": {},
     "output_type": "execute_result"
    }
   ],
   "source": [
    "df.duplicated().sum() # find the dupilicated values"
   ]
  },
  {
   "cell_type": "code",
   "execution_count": 45,
   "id": "bd34e47f",
   "metadata": {},
   "outputs": [
    {
     "data": {
      "text/plain": [
       "Age            0\n",
       "Sex            0\n",
       "BP             0\n",
       "Cholesterol    0\n",
       "Na_to_K        0\n",
       "Drug           0\n",
       "dtype: int64"
      ]
     },
     "execution_count": 45,
     "metadata": {},
     "output_type": "execute_result"
    }
   ],
   "source": [
    "df.isnull().sum() # find The null values"
   ]
  },
  {
   "cell_type": "code",
   "execution_count": 46,
   "id": "9c4dd01c",
   "metadata": {
    "scrolled": true
   },
   "outputs": [
    {
     "data": {
      "text/plain": [
       "['HIGH', 'LOW', 'NORMAL']\n",
       "Categories (3, object): ['HIGH', 'LOW', 'NORMAL']"
      ]
     },
     "execution_count": 46,
     "metadata": {},
     "output_type": "execute_result"
    }
   ],
   "source": [
    "df[\"BP\"].unique() # find unique values of \"bp\" column"
   ]
  },
  {
   "cell_type": "code",
   "execution_count": 47,
   "id": "6e51cf4c",
   "metadata": {},
   "outputs": [
    {
     "data": {
      "text/plain": [
       "['HIGH', 'NORMAL']\n",
       "Categories (2, object): ['HIGH', 'NORMAL']"
      ]
     },
     "execution_count": 47,
     "metadata": {},
     "output_type": "execute_result"
    }
   ],
   "source": [
    "df[\"Cholesterol\"].unique() # find unique values of \"Cholesterol\" column"
   ]
  },
  {
   "cell_type": "code",
   "execution_count": 48,
   "id": "bb5e7368",
   "metadata": {},
   "outputs": [
    {
     "data": {
      "text/plain": [
       "array(['DrugY', 'drugC', 'drugX', 'drugA', 'drugB'], dtype=object)"
      ]
     },
     "execution_count": 48,
     "metadata": {},
     "output_type": "execute_result"
    }
   ],
   "source": [
    "df[\"Drug\"].unique() # find unique values of \"Drug\" column"
   ]
  },
  {
   "cell_type": "markdown",
   "id": "bb3e2b9d",
   "metadata": {},
   "source": [
    "### 4. preprocessing"
   ]
  },
  {
   "cell_type": "code",
   "execution_count": 49,
   "id": "10f63fab",
   "metadata": {},
   "outputs": [],
   "source": [
    "fv = df.iloc[:,:-1]    # split data into features and class variables\n",
    "cv = df.iloc[:,-1]"
   ]
  },
  {
   "cell_type": "code",
   "execution_count": 50,
   "id": "092e3447",
   "metadata": {},
   "outputs": [
    {
     "data": {
      "text/html": [
       "<div>\n",
       "<style scoped>\n",
       "    .dataframe tbody tr th:only-of-type {\n",
       "        vertical-align: middle;\n",
       "    }\n",
       "\n",
       "    .dataframe tbody tr th {\n",
       "        vertical-align: top;\n",
       "    }\n",
       "\n",
       "    .dataframe thead th {\n",
       "        text-align: right;\n",
       "    }\n",
       "</style>\n",
       "<table border=\"1\" class=\"dataframe\">\n",
       "  <thead>\n",
       "    <tr style=\"text-align: right;\">\n",
       "      <th></th>\n",
       "      <th>Age</th>\n",
       "      <th>Sex</th>\n",
       "      <th>BP</th>\n",
       "      <th>Cholesterol</th>\n",
       "      <th>Na_to_K</th>\n",
       "    </tr>\n",
       "  </thead>\n",
       "  <tbody>\n",
       "    <tr>\n",
       "      <th>0</th>\n",
       "      <td>23</td>\n",
       "      <td>F</td>\n",
       "      <td>HIGH</td>\n",
       "      <td>HIGH</td>\n",
       "      <td>25.355</td>\n",
       "    </tr>\n",
       "    <tr>\n",
       "      <th>1</th>\n",
       "      <td>47</td>\n",
       "      <td>M</td>\n",
       "      <td>LOW</td>\n",
       "      <td>HIGH</td>\n",
       "      <td>13.093</td>\n",
       "    </tr>\n",
       "    <tr>\n",
       "      <th>2</th>\n",
       "      <td>47</td>\n",
       "      <td>M</td>\n",
       "      <td>LOW</td>\n",
       "      <td>HIGH</td>\n",
       "      <td>10.114</td>\n",
       "    </tr>\n",
       "    <tr>\n",
       "      <th>3</th>\n",
       "      <td>28</td>\n",
       "      <td>F</td>\n",
       "      <td>NORMAL</td>\n",
       "      <td>HIGH</td>\n",
       "      <td>7.798</td>\n",
       "    </tr>\n",
       "    <tr>\n",
       "      <th>4</th>\n",
       "      <td>61</td>\n",
       "      <td>F</td>\n",
       "      <td>LOW</td>\n",
       "      <td>HIGH</td>\n",
       "      <td>18.043</td>\n",
       "    </tr>\n",
       "    <tr>\n",
       "      <th>...</th>\n",
       "      <td>...</td>\n",
       "      <td>...</td>\n",
       "      <td>...</td>\n",
       "      <td>...</td>\n",
       "      <td>...</td>\n",
       "    </tr>\n",
       "    <tr>\n",
       "      <th>195</th>\n",
       "      <td>56</td>\n",
       "      <td>F</td>\n",
       "      <td>LOW</td>\n",
       "      <td>HIGH</td>\n",
       "      <td>11.567</td>\n",
       "    </tr>\n",
       "    <tr>\n",
       "      <th>196</th>\n",
       "      <td>16</td>\n",
       "      <td>M</td>\n",
       "      <td>LOW</td>\n",
       "      <td>HIGH</td>\n",
       "      <td>12.006</td>\n",
       "    </tr>\n",
       "    <tr>\n",
       "      <th>197</th>\n",
       "      <td>52</td>\n",
       "      <td>M</td>\n",
       "      <td>NORMAL</td>\n",
       "      <td>HIGH</td>\n",
       "      <td>9.894</td>\n",
       "    </tr>\n",
       "    <tr>\n",
       "      <th>198</th>\n",
       "      <td>23</td>\n",
       "      <td>M</td>\n",
       "      <td>NORMAL</td>\n",
       "      <td>NORMAL</td>\n",
       "      <td>14.020</td>\n",
       "    </tr>\n",
       "    <tr>\n",
       "      <th>199</th>\n",
       "      <td>40</td>\n",
       "      <td>F</td>\n",
       "      <td>LOW</td>\n",
       "      <td>NORMAL</td>\n",
       "      <td>11.349</td>\n",
       "    </tr>\n",
       "  </tbody>\n",
       "</table>\n",
       "<p>200 rows × 5 columns</p>\n",
       "</div>"
      ],
      "text/plain": [
       "     Age Sex      BP Cholesterol  Na_to_K\n",
       "0     23   F    HIGH        HIGH   25.355\n",
       "1     47   M     LOW        HIGH   13.093\n",
       "2     47   M     LOW        HIGH   10.114\n",
       "3     28   F  NORMAL        HIGH    7.798\n",
       "4     61   F     LOW        HIGH   18.043\n",
       "..   ...  ..     ...         ...      ...\n",
       "195   56   F     LOW        HIGH   11.567\n",
       "196   16   M     LOW        HIGH   12.006\n",
       "197   52   M  NORMAL        HIGH    9.894\n",
       "198   23   M  NORMAL      NORMAL   14.020\n",
       "199   40   F     LOW      NORMAL   11.349\n",
       "\n",
       "[200 rows x 5 columns]"
      ]
     },
     "execution_count": 50,
     "metadata": {},
     "output_type": "execute_result"
    }
   ],
   "source": [
    "fv\n"
   ]
  },
  {
   "cell_type": "code",
   "execution_count": 51,
   "id": "767ed237",
   "metadata": {},
   "outputs": [],
   "source": [
    "from sklearn.preprocessing import LabelEncoder\n",
    "lb = LabelEncoder()   # give values in cv using the label encoder\n",
    "cv = lb.fit_transform(cv)"
   ]
  },
  {
   "cell_type": "code",
   "execution_count": 52,
   "id": "9c8637bf",
   "metadata": {},
   "outputs": [
    {
     "data": {
      "text/plain": [
       "array([0, 3, 3, 4, 0, 4, 0, 3, 0, 0, 3, 0, 0, 0, 4, 0, 4, 1, 3, 0, 0, 0,\n",
       "       0, 0, 0, 0, 0, 4, 0, 0, 4, 2, 4, 0, 4, 4, 1, 4, 4, 4, 0, 2, 0, 4,\n",
       "       4, 4, 1, 3, 0, 0, 0, 4, 0, 0, 2, 3, 2, 0, 4, 0, 0, 1, 0, 4, 2, 0,\n",
       "       1, 4, 0, 0, 2, 0, 4, 0, 0, 0, 1, 0, 1, 4, 2, 4, 3, 1, 3, 2, 4, 0,\n",
       "       0, 0, 0, 0, 0, 0, 0, 4, 0, 0, 0, 0, 1, 1, 3, 4, 0, 4, 4, 0, 2, 0,\n",
       "       1, 4, 4, 4, 4, 0, 4, 4, 1, 0, 0, 0, 0, 0, 2, 0, 0, 4, 0, 4, 0, 0,\n",
       "       4, 0, 0, 4, 2, 1, 2, 4, 1, 0, 2, 0, 1, 4, 4, 1, 4, 3, 1, 2, 4, 4,\n",
       "       0, 3, 1, 0, 3, 4, 4, 2, 4, 0, 0, 0, 0, 4, 0, 1, 4, 4, 0, 0, 1, 0,\n",
       "       1, 0, 0, 0, 0, 4, 4, 0, 0, 0, 2, 1, 0, 0, 0, 1, 0, 3, 0, 3, 3, 4,\n",
       "       4, 4])"
      ]
     },
     "execution_count": 52,
     "metadata": {},
     "output_type": "execute_result"
    }
   ],
   "source": [
    "cv"
   ]
  },
  {
   "cell_type": "markdown",
   "id": "ee541f73",
   "metadata": {},
   "source": [
    "### EDA "
   ]
  },
  {
   "cell_type": "code",
   "execution_count": 53,
   "id": "96a26194",
   "metadata": {
    "scrolled": true
   },
   "outputs": [
    {
     "name": "stderr",
     "output_type": "stream",
     "text": [
      "C:\\Users\\Welcome\\AppData\\Local\\Temp\\ipykernel_26940\\74013967.py:3: FutureWarning: The default value of numeric_only in DataFrame.corr is deprecated. In a future version, it will default to False. Select only valid columns or specify the value of numeric_only to silence this warning.\n",
      "  corr_matrix = fv.corr()\n"
     ]
    },
    {
     "data": {
      "text/html": [
       "<div>\n",
       "<style scoped>\n",
       "    .dataframe tbody tr th:only-of-type {\n",
       "        vertical-align: middle;\n",
       "    }\n",
       "\n",
       "    .dataframe tbody tr th {\n",
       "        vertical-align: top;\n",
       "    }\n",
       "\n",
       "    .dataframe thead th {\n",
       "        text-align: right;\n",
       "    }\n",
       "</style>\n",
       "<table border=\"1\" class=\"dataframe\">\n",
       "  <thead>\n",
       "    <tr style=\"text-align: right;\">\n",
       "      <th></th>\n",
       "      <th>Age</th>\n",
       "      <th>Na_to_K</th>\n",
       "    </tr>\n",
       "  </thead>\n",
       "  <tbody>\n",
       "    <tr>\n",
       "      <th>Age</th>\n",
       "      <td>1.000000</td>\n",
       "      <td>-0.063119</td>\n",
       "    </tr>\n",
       "    <tr>\n",
       "      <th>Na_to_K</th>\n",
       "      <td>-0.063119</td>\n",
       "      <td>1.000000</td>\n",
       "    </tr>\n",
       "  </tbody>\n",
       "</table>\n",
       "</div>"
      ],
      "text/plain": [
       "              Age   Na_to_K\n",
       "Age      1.000000 -0.063119\n",
       "Na_to_K -0.063119  1.000000"
      ]
     },
     "execution_count": 53,
     "metadata": {},
     "output_type": "execute_result"
    }
   ],
   "source": [
    "# find the relation between features\n",
    "# Correlation matrix\n",
    "corr_matrix = fv.corr()\n",
    "corr_matrix"
   ]
  },
  {
   "cell_type": "code",
   "execution_count": 54,
   "id": "0cd9edf6",
   "metadata": {},
   "outputs": [
    {
     "data": {
      "image/png": "[encoded data removed]",
      "text/plain": [
       "<Figure size 640x480 with 2 Axes>"
      ]
     },
     "metadata": {},
     "output_type": "display_data"
    }
   ],
   "source": [
    "sns.heatmap(corr_matrix,annot=True) # find the relation between features\n",
    "plt.show()"
   ]
  },
  {
   "cell_type": "markdown",
   "id": "e957b49a",
   "metadata": {},
   "source": [
    "### Feature Engineering"
   ]
  },
  {
   "cell_type": "code",
   "execution_count": 55,
   "id": "05f5c45e",
   "metadata": {},
   "outputs": [],
   "source": [
    "from sklearn.compose import ColumnTransformer\n",
    "from sklearn.pipeline import Pipeline,make_pipeline\n",
    "from sklearn.model_selection import train_test_split\n",
    "from sklearn.preprocessing import StandardScaler,OneHotEncoder,OrdinalEncoder,FunctionTransformer\n",
    "from sklearn.impute import SimpleImputer"
   ]
  },
  {
   "cell_type": "code",
   "execution_count": 56,
   "id": "d4c0ef53",
   "metadata": {},
   "outputs": [],
   "source": [
    "# split the data into train and test based on fv and cv\n",
    "x_train,x_test,y_train,y_test=train_test_split(fv,cv,test_size=0.2,stratify = cv)"
   ]
  },
  {
   "cell_type": "code",
   "execution_count": 57,
   "id": "3a3243f2",
   "metadata": {},
   "outputs": [],
   "source": [
    "numerical_data = x_train.select_dtypes(include=[\"int64\",\"float64\"])\n",
    "categorical_data = x_train.select_dtypes(include=[\"object\"])\n",
    "ordinal_data =  x_train.select_dtypes(include=[\"category\"])"
   ]
  },
  {
   "cell_type": "code",
   "execution_count": 58,
   "id": "9cff6377",
   "metadata": {},
   "outputs": [
    {
     "data": {
      "text/html": [
       "<div>\n",
       "<style scoped>\n",
       "    .dataframe tbody tr th:only-of-type {\n",
       "        vertical-align: middle;\n",
       "    }\n",
       "\n",
       "    .dataframe tbody tr th {\n",
       "        vertical-align: top;\n",
       "    }\n",
       "\n",
       "    .dataframe thead th {\n",
       "        text-align: right;\n",
       "    }\n",
       "</style>\n",
       "<table border=\"1\" class=\"dataframe\">\n",
       "  <thead>\n",
       "    <tr style=\"text-align: right;\">\n",
       "      <th></th>\n",
       "      <th>BP</th>\n",
       "      <th>Cholesterol</th>\n",
       "    </tr>\n",
       "  </thead>\n",
       "  <tbody>\n",
       "    <tr>\n",
       "      <th>175</th>\n",
       "      <td>HIGH</td>\n",
       "      <td>HIGH</td>\n",
       "    </tr>\n",
       "    <tr>\n",
       "      <th>61</th>\n",
       "      <td>HIGH</td>\n",
       "      <td>NORMAL</td>\n",
       "    </tr>\n",
       "    <tr>\n",
       "      <th>119</th>\n",
       "      <td>HIGH</td>\n",
       "      <td>HIGH</td>\n",
       "    </tr>\n",
       "    <tr>\n",
       "      <th>109</th>\n",
       "      <td>NORMAL</td>\n",
       "      <td>HIGH</td>\n",
       "    </tr>\n",
       "    <tr>\n",
       "      <th>34</th>\n",
       "      <td>NORMAL</td>\n",
       "      <td>HIGH</td>\n",
       "    </tr>\n",
       "    <tr>\n",
       "      <th>...</th>\n",
       "      <td>...</td>\n",
       "      <td>...</td>\n",
       "    </tr>\n",
       "    <tr>\n",
       "      <th>1</th>\n",
       "      <td>LOW</td>\n",
       "      <td>HIGH</td>\n",
       "    </tr>\n",
       "    <tr>\n",
       "      <th>146</th>\n",
       "      <td>LOW</td>\n",
       "      <td>NORMAL</td>\n",
       "    </tr>\n",
       "    <tr>\n",
       "      <th>54</th>\n",
       "      <td>HIGH</td>\n",
       "      <td>NORMAL</td>\n",
       "    </tr>\n",
       "    <tr>\n",
       "      <th>52</th>\n",
       "      <td>LOW</td>\n",
       "      <td>NORMAL</td>\n",
       "    </tr>\n",
       "    <tr>\n",
       "      <th>153</th>\n",
       "      <td>LOW</td>\n",
       "      <td>NORMAL</td>\n",
       "    </tr>\n",
       "  </tbody>\n",
       "</table>\n",
       "<p>160 rows × 2 columns</p>\n",
       "</div>"
      ],
      "text/plain": [
       "         BP Cholesterol\n",
       "175    HIGH        HIGH\n",
       "61     HIGH      NORMAL\n",
       "119    HIGH        HIGH\n",
       "109  NORMAL        HIGH\n",
       "34   NORMAL        HIGH\n",
       "..      ...         ...\n",
       "1       LOW        HIGH\n",
       "146     LOW      NORMAL\n",
       "54     HIGH      NORMAL\n",
       "52      LOW      NORMAL\n",
       "153     LOW      NORMAL\n",
       "\n",
       "[160 rows x 2 columns]"
      ]
     },
     "execution_count": 58,
     "metadata": {},
     "output_type": "execute_result"
    }
   ],
   "source": [
    "ordinal_data"
   ]
  },
  {
   "cell_type": "code",
   "execution_count": 59,
   "id": "d2c6b8fb",
   "metadata": {},
   "outputs": [],
   "source": [
    "num_p = Pipeline([(\"imp_n\",SimpleImputer()),(\"scaling\",StandardScaler())])"
   ]
  },
  {
   "cell_type": "code",
   "execution_count": 60,
   "id": "ad0fb2e6",
   "metadata": {},
   "outputs": [],
   "source": [
    "cat_p = Pipeline([(\"imp_n\",SimpleImputer(strategy='most_frequent')),(\"ohe\",OneHotEncoder(sparse_output=False,drop =\"first\"))])"
   ]
  },
  {
   "cell_type": "code",
   "execution_count": 61,
   "id": "7dd1fbdf",
   "metadata": {},
   "outputs": [],
   "source": [
    "ord_p = Pipeline([('imp_o', SimpleImputer(strategy='most_frequent')),\n",
    "                         ('Ordinal_Encoding', OrdinalEncoder(categories= [['NORMAL','LOW','HIGH'],['NORMAL','HIGH']]))])"
   ]
  },
  {
   "cell_type": "code",
   "execution_count": 62,
   "id": "af8842da",
   "metadata": {},
   "outputs": [],
   "source": [
    "ctp = ColumnTransformer([(\"num\",num_p,numerical_data.columns),(\"cat\",cat_p,categorical_data.columns),([\"ord\",ord_p,ordinal_data.columns])],remainder=\"passthrough\")"
   ]
  },
  {
   "cell_type": "code",
   "execution_count": 63,
   "id": "59b63a4d",
   "metadata": {},
   "outputs": [],
   "source": [
    "finalp =  Pipeline([(\"preprocess\",ctp)]) "
   ]
  },
  {
   "cell_type": "code",
   "execution_count": 64,
   "id": "6b4f8ac9",
   "metadata": {},
   "outputs": [
    {
     "data": {
      "text/html": [
       "<style>#sk-container-id-2 {color: black;background-color: white;}#sk-container-id-2 pre{padding: 0;}#sk-container-id-2 div.sk-toggleable {background-color: white;}#sk-container-id-2 label.sk-toggleable__label {cursor: pointer;display: block;width: 100%;margin-bottom: 0;padding: 0.3em;box-sizing: border-box;text-align: center;}#sk-container-id-2 label.sk-toggleable__label-arrow:before {content: \"▸\";float: left;margin-right: 0.25em;color: #696969;}#sk-container-id-2 label.sk-toggleable__label-arrow:hover:before {color: black;}#sk-container-id-2 div.sk-estimator:hover label.sk-toggleable__label-arrow:before {color: black;}#sk-container-id-2 div.sk-toggleable__content {max-height: 0;max-width: 0;overflow: hidden;text-align: left;background-color: #f0f8ff;}#sk-container-id-2 div.sk-toggleable__content pre {margin: 0.2em;color: black;border-radius: 0.25em;background-color: #f0f8ff;}#sk-container-id-2 input.sk-toggleable__control:checked~div.sk-toggleable__content {max-height: 200px;max-width: 100%;overflow: auto;}#sk-container-id-2 input.sk-toggleable__control:checked~label.sk-toggleable__label-arrow:before {content: \"▾\";}#sk-container-id-2 div.sk-estimator input.sk-toggleable__control:checked~label.sk-toggleable__label {background-color: #d4ebff;}#sk-container-id-2 div.sk-label input.sk-toggleable__control:checked~label.sk-toggleable__label {background-color: #d4ebff;}#sk-container-id-2 input.sk-hidden--visually {border: 0;clip: rect(1px 1px 1px 1px);clip: rect(1px, 1px, 1px, 1px);height: 1px;margin: -1px;overflow: hidden;padding: 0;position: absolute;width: 1px;}#sk-container-id-2 div.sk-estimator {font-family: monospace;background-color: #f0f8ff;border: 1px dotted black;border-radius: 0.25em;box-sizing: border-box;margin-bottom: 0.5em;}#sk-container-id-2 div.sk-estimator:hover {background-color: #d4ebff;}#sk-container-id-2 div.sk-parallel-item::after {content: \"\";width: 100%;border-bottom: 1px solid gray;flex-grow: 1;}#sk-container-id-2 div.sk-label:hover label.sk-toggleable__label {background-color: #d4ebff;}#sk-container-id-2 div.sk-serial::before {content: \"\";position: absolute;border-left: 1px solid gray;box-sizing: border-box;top: 0;bottom: 0;left: 50%;z-index: 0;}#sk-container-id-2 div.sk-serial {display: flex;flex-direction: column;align-items: center;background-color: white;padding-right: 0.2em;padding-left: 0.2em;position: relative;}#sk-container-id-2 div.sk-item {position: relative;z-index: 1;}#sk-container-id-2 div.sk-parallel {display: flex;align-items: stretch;justify-content: center;background-color: white;position: relative;}#sk-container-id-2 div.sk-item::before, #sk-container-id-2 div.sk-parallel-item::before {content: \"\";position: absolute;border-left: 1px solid gray;box-sizing: border-box;top: 0;bottom: 0;left: 50%;z-index: -1;}#sk-container-id-2 div.sk-parallel-item {display: flex;flex-direction: column;z-index: 1;position: relative;background-color: white;}#sk-container-id-2 div.sk-parallel-item:first-child::after {align-self: flex-end;width: 50%;}#sk-container-id-2 div.sk-parallel-item:last-child::after {align-self: flex-start;width: 50%;}#sk-container-id-2 div.sk-parallel-item:only-child::after {width: 0;}#sk-container-id-2 div.sk-dashed-wrapped {border: 1px dashed gray;margin: 0 0.4em 0.5em 0.4em;box-sizing: border-box;padding-bottom: 0.4em;background-color: white;}#sk-container-id-2 div.sk-label label {font-family: monospace;font-weight: bold;display: inline-block;line-height: 1.2em;}#sk-container-id-2 div.sk-label-container {text-align: center;}#sk-container-id-2 div.sk-container {/* jupyter's `normalize.less` sets `[hidden] { display: none; }` but bootstrap.min.css set `[hidden] { display: none !important; }` so we also need the `!important` here to be able to override the default hidden behavior on the sphinx rendered scikit-learn.org. See: https://github.com/scikit-learn/scikit-learn/issues/21755 */display: inline-block !important;position: relative;}#sk-container-id-2 div.sk-text-repr-fallback {display: none;}</style><div id=\"sk-container-id-2\" class=\"sk-top-container\"><div class=\"sk-text-repr-fallback\"><pre>Pipeline(steps=[(&#x27;preprocess&#x27;,\n",
       "                 ColumnTransformer(remainder=&#x27;passthrough&#x27;,\n",
       "                                   transformers=[(&#x27;num&#x27;,\n",
       "                                                  Pipeline(steps=[(&#x27;imp_n&#x27;,\n",
       "                                                                   SimpleImputer()),\n",
       "                                                                  (&#x27;scaling&#x27;,\n",
       "                                                                   StandardScaler())]),\n",
       "                                                  Index([&#x27;Age&#x27;, &#x27;Na_to_K&#x27;], dtype=&#x27;object&#x27;)),\n",
       "                                                 (&#x27;cat&#x27;,\n",
       "                                                  Pipeline(steps=[(&#x27;imp_n&#x27;,\n",
       "                                                                   SimpleImputer(strategy=&#x27;most_frequent&#x27;)),\n",
       "                                                                  (&#x27;ohe&#x27;,\n",
       "                                                                   OneHotEncoder(drop=&#x27;first&#x27;,\n",
       "                                                                                 sparse_output=False))]),\n",
       "                                                  Index([&#x27;Sex&#x27;], dtype=&#x27;object&#x27;)),\n",
       "                                                 [&#x27;ord&#x27;,\n",
       "                                                  Pipeline(steps=[(&#x27;Null_values_imputation_2&#x27;,\n",
       "                                                                   SimpleImputer(strategy=&#x27;most_frequent&#x27;)),\n",
       "                                                                  (&#x27;Ordinal_Encoding&#x27;,\n",
       "                                                                   OrdinalEncoder(categories=[[&#x27;NORMAL&#x27;,\n",
       "                                                                                               &#x27;LOW&#x27;,\n",
       "                                                                                               &#x27;HIGH&#x27;],\n",
       "                                                                                              [&#x27;NORMAL&#x27;,\n",
       "                                                                                               &#x27;HIGH&#x27;]]))]),\n",
       "                                                  Index([&#x27;BP&#x27;, &#x27;Cholesterol&#x27;], dtype=&#x27;object&#x27;)]]))])</pre><b>In a Jupyter environment, please rerun this cell to show the HTML representation or trust the notebook. <br />On GitHub, the HTML representation is unable to render, please try loading this page with nbviewer.org.</b></div><div class=\"sk-container\" hidden><div class=\"sk-item sk-dashed-wrapped\"><div class=\"sk-label-container\"><div class=\"sk-label sk-toggleable\"><input class=\"sk-toggleable__control sk-hidden--visually\" id=\"sk-estimator-id-14\" type=\"checkbox\" ><label for=\"sk-estimator-id-14\" class=\"sk-toggleable__label sk-toggleable__label-arrow\">Pipeline</label><div class=\"sk-toggleable__content\"><pre>Pipeline(steps=[(&#x27;preprocess&#x27;,\n",
       "                 ColumnTransformer(remainder=&#x27;passthrough&#x27;,\n",
       "                                   transformers=[(&#x27;num&#x27;,\n",
       "                                                  Pipeline(steps=[(&#x27;imp_n&#x27;,\n",
       "                                                                   SimpleImputer()),\n",
       "                                                                  (&#x27;scaling&#x27;,\n",
       "                                                                   StandardScaler())]),\n",
       "                                                  Index([&#x27;Age&#x27;, &#x27;Na_to_K&#x27;], dtype=&#x27;object&#x27;)),\n",
       "                                                 (&#x27;cat&#x27;,\n",
       "                                                  Pipeline(steps=[(&#x27;imp_n&#x27;,\n",
       "                                                                   SimpleImputer(strategy=&#x27;most_frequent&#x27;)),\n",
       "                                                                  (&#x27;ohe&#x27;,\n",
       "                                                                   OneHotEncoder(drop=&#x27;first&#x27;,\n",
       "                                                                                 sparse_output=False))]),\n",
       "                                                  Index([&#x27;Sex&#x27;], dtype=&#x27;object&#x27;)),\n",
       "                                                 [&#x27;ord&#x27;,\n",
       "                                                  Pipeline(steps=[(&#x27;Null_values_imputation_2&#x27;,\n",
       "                                                                   SimpleImputer(strategy=&#x27;most_frequent&#x27;)),\n",
       "                                                                  (&#x27;Ordinal_Encoding&#x27;,\n",
       "                                                                   OrdinalEncoder(categories=[[&#x27;NORMAL&#x27;,\n",
       "                                                                                               &#x27;LOW&#x27;,\n",
       "                                                                                               &#x27;HIGH&#x27;],\n",
       "                                                                                              [&#x27;NORMAL&#x27;,\n",
       "                                                                                               &#x27;HIGH&#x27;]]))]),\n",
       "                                                  Index([&#x27;BP&#x27;, &#x27;Cholesterol&#x27;], dtype=&#x27;object&#x27;)]]))])</pre></div></div></div><div class=\"sk-serial\"><div class=\"sk-item sk-dashed-wrapped\"><div class=\"sk-label-container\"><div class=\"sk-label sk-toggleable\"><input class=\"sk-toggleable__control sk-hidden--visually\" id=\"sk-estimator-id-15\" type=\"checkbox\" ><label for=\"sk-estimator-id-15\" class=\"sk-toggleable__label sk-toggleable__label-arrow\">preprocess: ColumnTransformer</label><div class=\"sk-toggleable__content\"><pre>ColumnTransformer(remainder=&#x27;passthrough&#x27;,\n",
       "                  transformers=[(&#x27;num&#x27;,\n",
       "                                 Pipeline(steps=[(&#x27;imp_n&#x27;, SimpleImputer()),\n",
       "                                                 (&#x27;scaling&#x27;,\n",
       "                                                  StandardScaler())]),\n",
       "                                 Index([&#x27;Age&#x27;, &#x27;Na_to_K&#x27;], dtype=&#x27;object&#x27;)),\n",
       "                                (&#x27;cat&#x27;,\n",
       "                                 Pipeline(steps=[(&#x27;imp_n&#x27;,\n",
       "                                                  SimpleImputer(strategy=&#x27;most_frequent&#x27;)),\n",
       "                                                 (&#x27;ohe&#x27;,\n",
       "                                                  OneHotEncoder(drop=&#x27;first&#x27;,\n",
       "                                                                sparse_output=False))]),\n",
       "                                 Index([&#x27;Sex&#x27;], dtype=&#x27;object&#x27;)),\n",
       "                                [&#x27;ord&#x27;,\n",
       "                                 Pipeline(steps=[(&#x27;Null_values_imputation_2&#x27;,\n",
       "                                                  SimpleImputer(strategy=&#x27;most_frequent&#x27;)),\n",
       "                                                 (&#x27;Ordinal_Encoding&#x27;,\n",
       "                                                  OrdinalEncoder(categories=[[&#x27;NORMAL&#x27;,\n",
       "                                                                              &#x27;LOW&#x27;,\n",
       "                                                                              &#x27;HIGH&#x27;],\n",
       "                                                                             [&#x27;NORMAL&#x27;,\n",
       "                                                                              &#x27;HIGH&#x27;]]))]),\n",
       "                                 Index([&#x27;BP&#x27;, &#x27;Cholesterol&#x27;], dtype=&#x27;object&#x27;)]])</pre></div></div></div><div class=\"sk-parallel\"><div class=\"sk-parallel-item\"><div class=\"sk-item\"><div class=\"sk-label-container\"><div class=\"sk-label sk-toggleable\"><input class=\"sk-toggleable__control sk-hidden--visually\" id=\"sk-estimator-id-16\" type=\"checkbox\" ><label for=\"sk-estimator-id-16\" class=\"sk-toggleable__label sk-toggleable__label-arrow\">num</label><div class=\"sk-toggleable__content\"><pre>Index([&#x27;Age&#x27;, &#x27;Na_to_K&#x27;], dtype=&#x27;object&#x27;)</pre></div></div></div><div class=\"sk-serial\"><div class=\"sk-item\"><div class=\"sk-serial\"><div class=\"sk-item\"><div class=\"sk-estimator sk-toggleable\"><input class=\"sk-toggleable__control sk-hidden--visually\" id=\"sk-estimator-id-17\" type=\"checkbox\" ><label for=\"sk-estimator-id-17\" class=\"sk-toggleable__label sk-toggleable__label-arrow\">SimpleImputer</label><div class=\"sk-toggleable__content\"><pre>SimpleImputer()</pre></div></div></div><div class=\"sk-item\"><div class=\"sk-estimator sk-toggleable\"><input class=\"sk-toggleable__control sk-hidden--visually\" id=\"sk-estimator-id-18\" type=\"checkbox\" ><label for=\"sk-estimator-id-18\" class=\"sk-toggleable__label sk-toggleable__label-arrow\">StandardScaler</label><div class=\"sk-toggleable__content\"><pre>StandardScaler()</pre></div></div></div></div></div></div></div></div><div class=\"sk-parallel-item\"><div class=\"sk-item\"><div class=\"sk-label-container\"><div class=\"sk-label sk-toggleable\"><input class=\"sk-toggleable__control sk-hidden--visually\" id=\"sk-estimator-id-19\" type=\"checkbox\" ><label for=\"sk-estimator-id-19\" class=\"sk-toggleable__label sk-toggleable__label-arrow\">cat</label><div class=\"sk-toggleable__content\"><pre>Index([&#x27;Sex&#x27;], dtype=&#x27;object&#x27;)</pre></div></div></div><div class=\"sk-serial\"><div class=\"sk-item\"><div class=\"sk-serial\"><div class=\"sk-item\"><div class=\"sk-estimator sk-toggleable\"><input class=\"sk-toggleable__control sk-hidden--visually\" id=\"sk-estimator-id-20\" type=\"checkbox\" ><label for=\"sk-estimator-id-20\" class=\"sk-toggleable__label sk-toggleable__label-arrow\">SimpleImputer</label><div class=\"sk-toggleable__content\"><pre>SimpleImputer(strategy=&#x27;most_frequent&#x27;)</pre></div></div></div><div class=\"sk-item\"><div class=\"sk-estimator sk-toggleable\"><input class=\"sk-toggleable__control sk-hidden--visually\" id=\"sk-estimator-id-21\" type=\"checkbox\" ><label for=\"sk-estimator-id-21\" class=\"sk-toggleable__label sk-toggleable__label-arrow\">OneHotEncoder</label><div class=\"sk-toggleable__content\"><pre>OneHotEncoder(drop=&#x27;first&#x27;, sparse_output=False)</pre></div></div></div></div></div></div></div></div><div class=\"sk-parallel-item\"><div class=\"sk-item\"><div class=\"sk-label-container\"><div class=\"sk-label sk-toggleable\"><input class=\"sk-toggleable__control sk-hidden--visually\" id=\"sk-estimator-id-22\" type=\"checkbox\" ><label for=\"sk-estimator-id-22\" class=\"sk-toggleable__label sk-toggleable__label-arrow\">ord</label><div class=\"sk-toggleable__content\"><pre>Index([&#x27;BP&#x27;, &#x27;Cholesterol&#x27;], dtype=&#x27;object&#x27;)</pre></div></div></div><div class=\"sk-serial\"><div class=\"sk-item\"><div class=\"sk-serial\"><div class=\"sk-item\"><div class=\"sk-estimator sk-toggleable\"><input class=\"sk-toggleable__control sk-hidden--visually\" id=\"sk-estimator-id-23\" type=\"checkbox\" ><label for=\"sk-estimator-id-23\" class=\"sk-toggleable__label sk-toggleable__label-arrow\">SimpleImputer</label><div class=\"sk-toggleable__content\"><pre>SimpleImputer(strategy=&#x27;most_frequent&#x27;)</pre></div></div></div><div class=\"sk-item\"><div class=\"sk-estimator sk-toggleable\"><input class=\"sk-toggleable__control sk-hidden--visually\" id=\"sk-estimator-id-24\" type=\"checkbox\" ><label for=\"sk-estimator-id-24\" class=\"sk-toggleable__label sk-toggleable__label-arrow\">OrdinalEncoder</label><div class=\"sk-toggleable__content\"><pre>OrdinalEncoder(categories=[[&#x27;NORMAL&#x27;, &#x27;LOW&#x27;, &#x27;HIGH&#x27;], [&#x27;NORMAL&#x27;, &#x27;HIGH&#x27;]])</pre></div></div></div></div></div></div></div></div><div class=\"sk-parallel-item\"><div class=\"sk-item\"><div class=\"sk-label-container\"><div class=\"sk-label sk-toggleable\"><input class=\"sk-toggleable__control sk-hidden--visually\" id=\"sk-estimator-id-25\" type=\"checkbox\" ><label for=\"sk-estimator-id-25\" class=\"sk-toggleable__label sk-toggleable__label-arrow\">remainder</label><div class=\"sk-toggleable__content\"><pre></pre></div></div></div><div class=\"sk-serial\"><div class=\"sk-item\"><div class=\"sk-estimator sk-toggleable\"><input class=\"sk-toggleable__control sk-hidden--visually\" id=\"sk-estimator-id-26\" type=\"checkbox\" ><label for=\"sk-estimator-id-26\" class=\"sk-toggleable__label sk-toggleable__label-arrow\">passthrough</label><div class=\"sk-toggleable__content\"><pre>passthrough</pre></div></div></div></div></div></div></div></div></div></div></div></div>"
      ],
      "text/plain": [
       "Pipeline(steps=[('preprocess',\n",
       "                 ColumnTransformer(remainder='passthrough',\n",
       "                                   transformers=[('num',\n",
       "                                                  Pipeline(steps=[('imp_n',\n",
       "                                                                   SimpleImputer()),\n",
       "                                                                  ('scaling',\n",
       "                                                                   StandardScaler())]),\n",
       "                                                  Index(['Age', 'Na_to_K'], dtype='object')),\n",
       "                                                 ('cat',\n",
       "                                                  Pipeline(steps=[('imp_n',\n",
       "                                                                   SimpleImputer(strategy='most_frequent')),\n",
       "                                                                  ('ohe',\n",
       "                                                                   OneHotEncoder(drop='first',\n",
       "                                                                                 sparse_output=False))]),\n",
       "                                                  Index(['Sex'], dtype='object')),\n",
       "                                                 ['ord',\n",
       "                                                  Pipeline(steps=[('Null_values_imputation_2',\n",
       "                                                                   SimpleImputer(strategy='most_frequent')),\n",
       "                                                                  ('Ordinal_Encoding',\n",
       "                                                                   OrdinalEncoder(categories=[['NORMAL',\n",
       "                                                                                               'LOW',\n",
       "                                                                                               'HIGH'],\n",
       "                                                                                              ['NORMAL',\n",
       "                                                                                               'HIGH']]))]),\n",
       "                                                  Index(['BP', 'Cholesterol'], dtype='object')]]))])"
      ]
     },
     "execution_count": 64,
     "metadata": {},
     "output_type": "execute_result"
    }
   ],
   "source": [
    "finalp"
   ]
  },
  {
   "cell_type": "code",
   "execution_count": 65,
   "id": "7a6ef849",
   "metadata": {},
   "outputs": [
    {
     "data": {
      "text/plain": [
       "array([[ 1.65100527,  0.28956796,  0.        ,  2.        ,  1.        ],\n",
       "       [-1.24406995, -0.91609191,  1.        ,  2.        ,  0.        ],\n",
       "       [ 0.94200726,  1.25798202,  0.        ,  2.        ,  1.        ],\n",
       "       [-1.30315312,  0.08602029,  1.        ,  0.        ,  1.        ],\n",
       "       [ 0.46934191, -0.28316464,  1.        ,  0.        ,  1.        ],\n",
       "       [ 1.5919221 , -1.28378216,  1.        ,  1.        ,  1.        ],\n",
       "       [-0.77140461,  1.32578595,  0.        ,  2.        ,  0.        ],\n",
       "       [-1.36223629,  1.64102666,  1.        ,  2.        ,  0.        ],\n",
       "       [-1.77581846,  0.06903534,  0.        ,  2.        ,  0.        ],\n",
       "       [-0.77140461, -0.80507826,  0.        ,  2.        ,  0.        ],\n",
       "       [-0.4169056 , -0.66457873,  0.        ,  2.        ,  0.        ],\n",
       "       [-0.47598877,  0.06889946,  1.        ,  1.        ,  0.        ],\n",
       "       [ 1.4146726 , -0.10040655,  1.        ,  1.        ,  1.        ],\n",
       "       [ 0.23300924, -0.35586023,  1.        ,  1.        ,  0.        ],\n",
       "       [ 1.17833993, -0.66267641,  1.        ,  2.        ,  0.        ],\n",
       "       [ 1.35558943, -0.80521414,  1.        ,  1.        ,  1.        ],\n",
       "       [ 0.64659142, -0.16331881,  1.        ,  1.        ,  1.        ],\n",
       "       [-1.24406995, -0.76254794,  0.        ,  0.        ,  1.        ],\n",
       "       [ 0.88292409, -0.31020468,  1.        ,  2.        ,  1.        ],\n",
       "       [-0.35782243, -0.89041066,  1.        ,  2.        ,  1.        ],\n",
       "       [ 0.17392608, -0.7841528 ,  1.        ,  2.        ,  0.        ],\n",
       "       [-1.36223629,  0.89694986,  0.        ,  2.        ,  0.        ],\n",
       "       [-0.65323827,  0.40520152,  0.        ,  2.        ,  0.        ],\n",
       "       [-1.24406995,  1.30024058,  1.        ,  0.        ,  1.        ],\n",
       "       [ 1.29650626,  0.60820567,  1.        ,  1.        ,  0.        ],\n",
       "       [ 0.76475775,  0.4346874 ,  0.        ,  2.        ,  1.        ],\n",
       "       [ 0.05575974, -1.21366827,  1.        ,  0.        ,  0.        ],\n",
       "       [ 0.46934191,  0.91665241,  1.        ,  1.        ,  1.        ],\n",
       "       [ 1.29650626, -0.72273521,  1.        ,  0.        ,  0.        ],\n",
       "       [-1.71673529, -0.57218059,  1.        ,  1.        ,  1.        ],\n",
       "       [ 0.41025875,  2.26987755,  1.        ,  1.        ,  0.        ],\n",
       "       [-0.35782243,  0.88050843,  0.        ,  1.        ,  0.        ],\n",
       "       [-0.2396561 , -0.14415978,  1.        ,  2.        ,  0.        ],\n",
       "       [-0.71232144,  2.34651365,  0.        ,  1.        ,  1.        ],\n",
       "       [-0.18057293, -0.46891208,  1.        ,  2.        ,  0.        ],\n",
       "       [-0.83048778, -0.67803081,  1.        ,  2.        ,  0.        ],\n",
       "       [ 0.88292409, -0.83239006,  1.        ,  0.        ,  0.        ],\n",
       "       [ 0.35117558, -0.35599611,  0.        ,  0.        ,  1.        ],\n",
       "       [ 0.29209241, -0.47747249,  0.        ,  0.        ,  1.        ],\n",
       "       [-1.30315312, -0.53766716,  1.        ,  0.        ,  1.        ],\n",
       "       [ 0.76475775,  1.41696117,  0.        ,  1.        ,  1.        ],\n",
       "       [-0.65323827,  0.84776144,  1.        ,  0.        ,  1.        ],\n",
       "       [-0.88957094, -0.78456043,  0.        ,  0.        ,  1.        ],\n",
       "       [-0.00332343, -0.84244515,  1.        ,  1.        ,  0.        ],\n",
       "       [ 0.35117558,  0.92208759,  0.        ,  1.        ,  0.        ],\n",
       "       [-1.53948579,  1.32510655,  0.        ,  2.        ,  0.        ],\n",
       "       [-1.12590362, -0.27949589,  0.        ,  1.        ,  1.        ],\n",
       "       [ 0.23300924, -1.02139861,  1.        ,  2.        ,  0.        ],\n",
       "       [-0.00332343, -1.06623889,  1.        ,  1.        ,  0.        ],\n",
       "       [-1.12590362,  0.63755567,  1.        ,  1.        ,  0.        ],\n",
       "       [ 1.35558943, -0.70765257,  1.        ,  2.        ,  1.        ],\n",
       "       [-0.2396561 ,  0.34269689,  0.        ,  1.        ,  0.        ],\n",
       "       [-1.12590362, -0.53128082,  0.        ,  2.        ,  0.        ],\n",
       "       [-1.18498678,  0.37965615,  1.        ,  0.        ,  1.        ],\n",
       "       [ 1.5919221 ,  0.0126453 ,  1.        ,  1.        ,  1.        ],\n",
       "       [-0.59415511, -0.95753519,  1.        ,  1.        ,  0.        ],\n",
       "       [-0.59415511, -1.13757569,  1.        ,  0.        ,  0.        ],\n",
       "       [-0.2396561 ,  0.90877139,  0.        ,  0.        ,  0.        ],\n",
       "       [ 1.4146726 , -0.83592293,  0.        ,  0.        ,  1.        ],\n",
       "       [-0.35782243, -0.30966116,  1.        ,  1.        ,  0.        ],\n",
       "       [-0.00332343,  0.23562375,  1.        ,  1.        ,  1.        ],\n",
       "       [ 0.76475775,  0.37693856,  1.        ,  2.        ,  1.        ],\n",
       "       [ 1.11925676,  0.6406809 ,  1.        ,  2.        ,  0.        ],\n",
       "       [ 0.11484291, -0.82926483,  1.        ,  1.        ,  1.        ],\n",
       "       [-1.48040262, -0.67327503,  0.        ,  2.        ,  1.        ],\n",
       "       [-0.18057293,  0.51580753,  1.        ,  1.        ,  1.        ],\n",
       "       [ 1.17833993,  2.55182776,  1.        ,  2.        ,  0.        ],\n",
       "       [ 0.82384092, -0.3100688 ,  1.        ,  2.        ,  1.        ],\n",
       "       [ 0.41025875, -0.85915835,  1.        ,  0.        ,  1.        ],\n",
       "       [-0.59415511, -0.45151949,  0.        ,  2.        ,  1.        ],\n",
       "       [-1.00773728,  1.47389473,  1.        ,  0.        ,  1.        ],\n",
       "       [ 0.58750825, -0.71200072,  0.        ,  2.        ,  1.        ],\n",
       "       [-0.29873927,  1.577435  ,  1.        ,  2.        ,  1.        ],\n",
       "       [ 0.82384092, -0.78442455,  0.        ,  1.        ,  1.        ],\n",
       "       [-0.29873927, -0.6614535 ,  0.        ,  1.        ,  0.        ],\n",
       "       [ 1.47375577,  0.58048623,  0.        ,  0.        ,  1.        ],\n",
       "       [-1.48040262, -0.61566207,  0.        ,  1.        ,  0.        ],\n",
       "       [ 1.4146726 , -0.64705026,  1.        ,  1.        ,  0.        ],\n",
       "       [-1.36223629, -1.09599652,  1.        ,  1.        ,  1.        ],\n",
       "       [ 0.11484291,  2.35412291,  1.        ,  1.        ,  0.        ],\n",
       "       [ 0.23300924, -0.92886459,  0.        ,  0.        ,  0.        ],\n",
       "       [-1.71673529,  0.37911263,  1.        ,  2.        ,  0.        ],\n",
       "       [-0.12148976, -0.30504125,  1.        ,  2.        ,  1.        ],\n",
       "       [ 0.88292409, -0.39594472,  0.        ,  2.        ,  1.        ],\n",
       "       [-0.65323827, -0.44757898,  0.        ,  1.        ,  0.        ],\n",
       "       [ 1.06017359,  1.31804081,  1.        ,  0.        ,  1.        ],\n",
       "       [ 0.11484291,  1.95001692,  1.        ,  1.        ,  0.        ],\n",
       "       [ 1.29650626, -0.9107926 ,  1.        ,  0.        ,  0.        ],\n",
       "       [ 0.11484291, -0.83565117,  0.        ,  1.        ,  1.        ],\n",
       "       [-1.24406995,  0.30437884,  0.        ,  2.        ,  0.        ],\n",
       "       [-0.77140461, -0.73061622,  0.        ,  1.        ,  0.        ],\n",
       "       [-0.53507194, -0.09877599,  0.        ,  2.        ,  0.        ],\n",
       "       [-1.59856896,  1.09506235,  0.        ,  2.        ,  0.        ],\n",
       "       [ 0.23300924, -1.35172197,  1.        ,  2.        ,  0.        ],\n",
       "       [ 1.5919221 , -0.88864422,  1.        ,  2.        ,  0.        ],\n",
       "       [ 0.88292409, -0.14212159,  1.        ,  0.        ,  1.        ],\n",
       "       [-0.2396561 , -0.70384794,  1.        ,  1.        ,  1.        ],\n",
       "       [-0.12148976, -0.11426627,  1.        ,  1.        ,  1.        ],\n",
       "       [ 0.94200726, -0.92044005,  1.        ,  0.        ,  1.        ],\n",
       "       [-1.77581846, -0.96922084,  1.        ,  0.        ,  1.        ],\n",
       "       [ 0.58750825, -1.21692939,  1.        ,  0.        ,  0.        ],\n",
       "       [-1.30315312, -1.21190184,  1.        ,  1.        ,  1.        ],\n",
       "       [-1.00773728, -0.45355768,  0.        ,  0.        ,  1.        ],\n",
       "       [-1.48040262, -0.94245255,  0.        ,  0.        ,  0.        ],\n",
       "       [ 1.35558943,  1.47199242,  0.        ,  0.        ,  0.        ],\n",
       "       [-1.59856896,  2.84954001,  0.        ,  2.        ,  1.        ],\n",
       "       [-0.47598877,  0.934045  ,  0.        ,  2.        ,  0.        ],\n",
       "       [ 1.23742309, -1.10197523,  0.        ,  0.        ,  0.        ],\n",
       "       [-0.77140461, -1.18757939,  0.        ,  0.        ,  1.        ],\n",
       "       [ 1.65100527,  0.40819087,  0.        ,  0.        ,  1.        ],\n",
       "       [ 1.29650626, -0.04428826,  0.        ,  0.        ,  1.        ],\n",
       "       [ 0.46934191, -0.50573545,  0.        ,  2.        ,  0.        ],\n",
       "       [-1.00773728, -1.14396203,  0.        ,  0.        ,  1.        ],\n",
       "       [ 0.64659142,  1.24711165,  0.        ,  2.        ,  1.        ],\n",
       "       [ 0.94200726, -1.2061949 ,  0.        ,  1.        ,  0.        ],\n",
       "       [-0.00332343, -0.45695467,  0.        ,  2.        ,  1.        ],\n",
       "       [-0.94865411, -0.45668291,  1.        ,  2.        ,  1.        ],\n",
       "       [ 1.17833993, -0.33262482,  0.        ,  1.        ,  0.        ],\n",
       "       [-0.53507194, -0.68197132,  0.        ,  2.        ,  1.        ],\n",
       "       [ 0.70567458,  1.3147797 ,  0.        ,  0.        ,  0.        ],\n",
       "       [-0.83048778,  0.11577793,  1.        ,  2.        ,  0.        ],\n",
       "       [-1.48040262,  2.63906247,  1.        ,  2.        ,  0.        ],\n",
       "       [-1.12590362,  0.40003809,  0.        ,  2.        ,  0.        ],\n",
       "       [ 1.71008844, -0.90359098,  1.        ,  2.        ,  1.        ],\n",
       "       [ 0.76475775, -0.2687614 ,  0.        ,  2.        ,  0.        ],\n",
       "       [ 0.11484291, -0.60465582,  0.        ,  1.        ,  1.        ],\n",
       "       [ 1.71008844, -0.58128452,  1.        ,  1.        ,  0.        ],\n",
       "       [ 0.76475775,  2.99343652,  0.        ,  1.        ,  1.        ],\n",
       "       [-0.77140461, -0.92016829,  1.        ,  2.        ,  0.        ],\n",
       "       [-0.18057293,  1.77378105,  0.        ,  1.        ,  0.        ],\n",
       "       [-1.00773728,  0.35220847,  0.        ,  2.        ,  0.        ],\n",
       "       [ 0.05575974,  2.5095692 ,  0.        ,  2.        ,  1.        ],\n",
       "       [-1.77581846,  0.13439344,  1.        ,  2.        ,  0.        ],\n",
       "       [ 1.71008844, -0.10611349,  1.        ,  2.        ,  0.        ],\n",
       "       [-1.65765212, -0.73170326,  1.        ,  0.        ,  0.        ],\n",
       "       [-0.12148976,  0.42816518,  1.        ,  1.        ,  0.        ],\n",
       "       [ 0.29209241, -0.53291138,  0.        ,  0.        ,  0.        ],\n",
       "       [ 1.11925676, -1.14898958,  1.        ,  0.        ,  1.        ],\n",
       "       [ 0.29209241, -0.05801211,  1.        ,  0.        ,  0.        ],\n",
       "       [-0.77140461, -0.88388844,  0.        ,  1.        ,  1.        ],\n",
       "       [ 0.23300924,  0.00788951,  0.        ,  0.        ,  1.        ],\n",
       "       [ 1.71008844,  0.6420397 ,  0.        ,  1.        ,  1.        ],\n",
       "       [ 0.29209241,  0.13507283,  0.        ,  0.        ,  0.        ],\n",
       "       [ 1.17833993,  2.12774746,  0.        ,  2.        ,  0.        ],\n",
       "       [ 0.23300924, -0.70697317,  1.        ,  1.        ,  0.        ],\n",
       "       [ 0.29209241, -1.18581295,  1.        ,  2.        ,  1.        ],\n",
       "       [ 1.47375577, -0.30572065,  1.        ,  2.        ,  1.        ],\n",
       "       [ 0.94200726,  0.24812468,  0.        ,  1.        ,  1.        ],\n",
       "       [-1.30315312,  1.24167646,  0.        ,  2.        ,  1.        ],\n",
       "       [-0.83048778,  1.92256924,  1.        ,  2.        ,  1.        ],\n",
       "       [-0.29873927, -0.8307595 ,  0.        ,  0.        ,  1.        ],\n",
       "       [ 0.70567458,  0.39555407,  1.        ,  1.        ,  0.        ],\n",
       "       [ 0.35117558, -0.66226878,  1.        ,  2.        ,  0.        ],\n",
       "       [-1.36223629, -0.57938221,  1.        ,  0.        ,  1.        ],\n",
       "       [-1.71673529, -0.09524312,  0.        ,  2.        ,  0.        ],\n",
       "       [ 0.11484291, -0.42447944,  1.        ,  1.        ,  1.        ],\n",
       "       [-0.47598877, -0.57218059,  0.        ,  1.        ,  0.        ],\n",
       "       [ 1.35558943, -0.81907386,  0.        ,  2.        ,  0.        ],\n",
       "       [ 1.00109042,  1.49006441,  1.        ,  1.        ,  0.        ],\n",
       "       [ 1.5919221 , -0.21400191,  0.        ,  1.        ,  0.        ]])"
      ]
     },
     "execution_count": 65,
     "metadata": {},
     "output_type": "execute_result"
    }
   ],
   "source": [
    "finalp.fit_transform(x_train)"
   ]
  },
  {
   "cell_type": "code",
   "execution_count": 66,
   "id": "596fe7e4",
   "metadata": {},
   "outputs": [],
   "source": [
    "x_train_fit = ctp.fit_transform(x_train)\n",
    "x_test_trans = ctp.transform(x_test)"
   ]
  },
  {
   "cell_type": "code",
   "execution_count": 67,
   "id": "10235773",
   "metadata": {},
   "outputs": [
    {
     "data": {
      "text/plain": [
       "array(['num__Age', 'num__Na_to_K', 'cat__Sex_M', 'ord__BP',\n",
       "       'ord__Cholesterol'], dtype=object)"
      ]
     },
     "execution_count": 67,
     "metadata": {},
     "output_type": "execute_result"
    }
   ],
   "source": [
    "ctp.get_feature_names_out()"
   ]
  },
  {
   "cell_type": "markdown",
   "id": "8372c35b",
   "metadata": {},
   "source": [
    "### Training"
   ]
  },
  {
   "cell_type": "code",
   "execution_count": 68,
   "id": "835b3c00",
   "metadata": {},
   "outputs": [],
   "source": [
    "from mixed_naive_bayes import MixedNB"
   ]
  },
  {
   "cell_type": "code",
   "execution_count": 69,
   "id": "f5590b54",
   "metadata": {},
   "outputs": [],
   "source": [
    "mb = MixedNB(categorical_features= [2,3,4])\n",
    "model = mb.fit(x_train_fit, y_train)"
   ]
  },
  {
   "cell_type": "markdown",
   "id": "9648225e",
   "metadata": {},
   "source": [
    "### Model Evaluation"
   ]
  },
  {
   "cell_type": "code",
   "execution_count": 70,
   "id": "0306bb80",
   "metadata": {},
   "outputs": [],
   "source": [
    "from sklearn.metrics import accuracy_score,confusion_matrix,classification_report\n"
   ]
  },
  {
   "cell_type": "code",
   "execution_count": null,
   "id": "7c350d15",
   "metadata": {},
   "outputs": [],
   "source": []
  },
  {
   "cell_type": "code",
   "execution_count": 71,
   "id": "c891d1a1",
   "metadata": {
    "scrolled": false
   },
   "outputs": [
    {
     "data": {
      "text/plain": [
       "array([[18,  0,  0,  0,  0],\n",
       "       [ 0,  5,  0,  0,  0],\n",
       "       [ 0,  0,  3,  0,  0],\n",
       "       [ 0,  0,  0,  3,  0],\n",
       "       [ 0,  0,  0,  0, 11]], dtype=int64)"
      ]
     },
     "execution_count": 71,
     "metadata": {},
     "output_type": "execute_result"
    }
   ],
   "source": [
    "confusion_matrix(y_test,model.predict(x_test_trans))"
   ]
  },
  {
   "cell_type": "code",
   "execution_count": 72,
   "id": "64908fb3",
   "metadata": {},
   "outputs": [
    {
     "name": "stdout",
     "output_type": "stream",
     "text": [
      "              precision    recall  f1-score   support\n",
      "\n",
      "           0       1.00      1.00      1.00        18\n",
      "           1       1.00      1.00      1.00         5\n",
      "           2       1.00      1.00      1.00         3\n",
      "           3       1.00      1.00      1.00         3\n",
      "           4       1.00      1.00      1.00        11\n",
      "\n",
      "    accuracy                           1.00        40\n",
      "   macro avg       1.00      1.00      1.00        40\n",
      "weighted avg       1.00      1.00      1.00        40\n",
      "\n"
     ]
    }
   ],
   "source": [
    "print(classification_report(y_test,model.predict(x_test_trans)))"
   ]
  },
  {
   "cell_type": "code",
   "execution_count": 73,
   "id": "5b9fa4bb",
   "metadata": {
    "scrolled": false
   },
   "outputs": [
    {
     "data": {
      "text/plain": [
       "1.0"
      ]
     },
     "execution_count": 73,
     "metadata": {},
     "output_type": "execute_result"
    }
   ],
   "source": [
    "accuracy_score(y_test,model.predict(x_test_trans))\n"
   ]
  },
  {
   "cell_type": "markdown",
   "id": "68228908",
   "metadata": {},
   "source": [
    " Finally the accuracy_score is 0.975"
   ]
  },
  {
   "cell_type": "code",
   "execution_count": 74,
   "id": "18db0927",
   "metadata": {},
   "outputs": [],
   "source": [
    "import pickle\n",
    "pickle.dump(finalp,open(r\"C:\\Users\\Welcome\\Machine Learning\\Daily Tasks\\final_drug1\",\"wb\")) \n",
    "pickle.dump(model,open(r\"C:\\Users\\Welcome\\Machine Learning\\Daily Tasks\\model_drug1\",\"wb\"))"
   ]
  },
  {
   "cell_type": "code",
   "execution_count": 75,
   "id": "fd944871",
   "metadata": {},
   "outputs": [
    {
     "data": {
      "text/plain": [
       "array(['DrugY', 'drugA', 'drugB', 'drugC', 'drugX'], dtype=object)"
      ]
     },
     "execution_count": 75,
     "metadata": {},
     "output_type": "execute_result"
    }
   ],
   "source": [
    "lb.classes_"
   ]
  },
  {
   "cell_type": "code",
   "execution_count": 76,
   "id": "ccf8dd42",
   "metadata": {},
   "outputs": [
    {
     "data": {
      "text/plain": [
       "{0: 'DrugY', 1: 'drugA', 2: 'drugB', 3: 'drugC', 4: 'drugX'}"
      ]
     },
     "execution_count": 76,
     "metadata": {},
     "output_type": "execute_result"
    }
   ],
   "source": [
    "dict = {}\n",
    "for i in lb.classes_:                        # create a dictionary index of lbe.classes_ as key and lbe.classes_ as value\n",
    "    dict[list(lb.classes_).index(i)] = i\n",
    "dict"
   ]
  },
  {
   "cell_type": "code",
   "execution_count": null,
   "id": "eb3a268b",
   "metadata": {},
   "outputs": [],
   "source": []
  },
  {
   "cell_type": "code",
   "execution_count": 77,
   "id": "9770ba4d",
   "metadata": {},
   "outputs": [
    {
     "name": "stdout",
     "output_type": "stream",
     "text": [
      "drugX\n"
     ]
    }
   ],
   "source": [
    "m = pd.DataFrame(list(x_test_trans)).iloc[[5]]\n",
    "pred = model.predict(m)   \n",
    "print(dict[pred[0]]) "
   ]
  },
  {
   "cell_type": "code",
   "execution_count": null,
   "id": "7d9e5b9f",
   "metadata": {},
   "outputs": [],
   "source": []
  }
 ],
 "metadata": {
  "kernelspec": {
   "display_name": "Python 3 (ipykernel)",
   "language": "python",
   "name": "python3"
  },
  "language_info": {
   "codemirror_mode": {
    "name": "ipython",
    "version": 3
   },
   "file_extension": ".py",
   "mimetype": "text/x-python",
   "name": "python",
   "nbconvert_exporter": "python",
   "pygments_lexer": "ipython3",
   "version": "3.10.9"
  }
 },
 "nbformat": 4,
 "nbformat_minor": 5
}
